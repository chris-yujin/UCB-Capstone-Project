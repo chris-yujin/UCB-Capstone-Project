{
 "cells": [
  {
   "cell_type": "code",
   "execution_count": 2,
   "metadata": {},
   "outputs": [],
   "source": [
    "import csv\n",
    "import json\n",
    "\n",
    "\n",
    "\n"
   ]
  },
  {
   "cell_type": "code",
   "execution_count": 3,
   "metadata": {},
   "outputs": [
    {
     "name": "stdout",
     "output_type": "stream",
     "text": [
      "Conversion completed: <_io.TextIOWrapper name='Resources/AGI.csv' mode='r' encoding='UTF-8'> -> <_io.TextIOWrapper name='data.json' mode='w' encoding='UTF-8'>\n"
     ]
    }
   ],
   "source": [
    "\n",
    "# Specify the path to your CSV file and JSON file\n",
    "csv_file = 'Resources/AGI.csv'  \n",
    "json_file = 'data.json'  \n",
    "\n",
    "# Initialize an empty list to store the JSON data\n",
    "json_data = []\n",
    "\n",
    "# Read the CSV file and convert it to a list of dictionaries\n",
    "with open(csv_file, 'r') as csv_file:\n",
    "    csv_reader = csv.DictReader(csv_file)\n",
    "    for row in csv_reader:\n",
    "        json_data.append(row)\n",
    "\n",
    "# Write the JSON data to a JSON file\n",
    "with open(json_file, 'w') as json_file:\n",
    "    json.dump(json_data, json_file, indent=4)\n",
    "\n",
    "print(f'Conversion completed: {csv_file} -> {json_file}')"
   ]
  },
  {
   "cell_type": "code",
   "execution_count": null,
   "metadata": {},
   "outputs": [],
   "source": []
  }
 ],
 "metadata": {
  "kernelspec": {
   "display_name": "dev",
   "language": "python",
   "name": "python3"
  },
  "language_info": {
   "codemirror_mode": {
    "name": "ipython",
    "version": 3
   },
   "file_extension": ".py",
   "mimetype": "text/x-python",
   "name": "python",
   "nbconvert_exporter": "python",
   "pygments_lexer": "ipython3",
   "version": "3.10.11"
  },
  "orig_nbformat": 4
 },
 "nbformat": 4,
 "nbformat_minor": 2
}
