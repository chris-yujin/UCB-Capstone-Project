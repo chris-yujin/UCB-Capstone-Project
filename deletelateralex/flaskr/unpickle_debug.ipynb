{
 "cells": [
  {
   "cell_type": "code",
   "execution_count": 1,
   "metadata": {},
   "outputs": [],
   "source": [
    "# Import the dependencies\n",
    "import pandas as pd\n",
    "import numpy as np\n",
    "import datetime as dt\n",
    "\n",
    "from flask import Flask, redirect, url_for, render_template, jsonify\n",
    "\n",
    "# import sqlalchemy\n",
    "# from sqlalchemy.ext.automap import automap_base\n",
    "# from sqlalchemy.orm import Session\n",
    "# from sqlalchemy import create_engine, func, text\n",
    "\n",
    "# import psycopg2\n",
    "\n",
    "\n",
    "\n",
    "# You can put your ML functions somewhere out here\n",
    "# import testimport as t\n",
    "# tensorflow import\n",
    "# import tensorflow as tf\n",
    "\n",
    "# from tensorflow import keras\n",
    "# from tensorflow.keras import layers\n",
    "# import tensorflow as tf\n",
    "\n",
    "# from tensorflow import keras\n",
    "# from tensorflow.keras import layers\n",
    "\n"
   ]
  },
  {
   "cell_type": "code",
   "execution_count": 2,
   "metadata": {},
   "outputs": [
    {
     "ename": "ModuleNotFoundError",
     "evalue": "No module named 'keras'",
     "output_type": "error",
     "traceback": [
      "\u001b[0;31m---------------------------------------------------------------------------\u001b[0m",
      "\u001b[0;31mModuleNotFoundError\u001b[0m                       Traceback (most recent call last)",
      "\u001b[1;32m/Users/C-Note/Desktop/Data_Analytics_Class_Folder/Capstone/UCB-Capstone-Project/deletelateralex/flaskr/unpickle_debug.ipynb Cell 2\u001b[0m line \u001b[0;36m8\n\u001b[1;32m      <a href='vscode-notebook-cell:/Users/C-Note/Desktop/Data_Analytics_Class_Folder/Capstone/UCB-Capstone-Project/deletelateralex/flaskr/unpickle_debug.ipynb#W1sZmlsZQ%3D%3D?line=4'>5</a>\u001b[0m model_pkl_file \u001b[39m=\u001b[39m \u001b[39m\"\u001b[39m\u001b[39mlinear_regression_model.pkl\u001b[39m\u001b[39m\"\u001b[39m  \n\u001b[1;32m      <a href='vscode-notebook-cell:/Users/C-Note/Desktop/Data_Analytics_Class_Folder/Capstone/UCB-Capstone-Project/deletelateralex/flaskr/unpickle_debug.ipynb#W1sZmlsZQ%3D%3D?line=6'>7</a>\u001b[0m \u001b[39mwith\u001b[39;00m \u001b[39mopen\u001b[39m(model_pkl_file, \u001b[39m'\u001b[39m\u001b[39mrb\u001b[39m\u001b[39m'\u001b[39m) \u001b[39mas\u001b[39;00m file:  \n\u001b[0;32m----> <a href='vscode-notebook-cell:/Users/C-Note/Desktop/Data_Analytics_Class_Folder/Capstone/UCB-Capstone-Project/deletelateralex/flaskr/unpickle_debug.ipynb#W1sZmlsZQ%3D%3D?line=7'>8</a>\u001b[0m     model \u001b[39m=\u001b[39m pickle\u001b[39m.\u001b[39;49mload(file)\n",
      "\u001b[0;31mModuleNotFoundError\u001b[0m: No module named 'keras'"
     ]
    }
   ],
   "source": [
    "# load model from pickle file\n",
    "\n",
    "import pickle\n",
    "\n",
    "model_pkl_file = \"linear_regression_model.pkl\"  \n",
    "\n",
    "with open(model_pkl_file, 'rb') as file:  \n",
    "    model = pickle.load(file)\n",
    "\n"
   ]
  },
  {
   "cell_type": "code",
   "execution_count": 3,
   "metadata": {},
   "outputs": [
    {
     "name": "stdout",
     "output_type": "stream",
     "text": [
      "1/1 [==============================] - 0s 119ms/step\n",
      "[[4.121429, 24.8, 18.4, 44.0, 73.2, 33.0, 36.1, 16.9, 28.8, 35.5, 41.0]] [[48.271656]]\n"
     ]
    }
   ],
   "source": [
    "# define input\n",
    "new_input = [[4.121429,24.8,18.4, 44.0, 73.2, 33.0, 36.1, 16.9, 28.8, 35.5, 41.0]]\n",
    "new_output = model.predict(new_input)\n",
    "# summarize input and output\n",
    "print(new_input, new_output)\n",
    "\n"
   ]
  },
  {
   "cell_type": "code",
   "execution_count": null,
   "metadata": {},
   "outputs": [],
   "source": []
  }
 ],
 "metadata": {
  "kernelspec": {
   "display_name": "tf",
   "language": "python",
   "name": "python3"
  },
  "language_info": {
   "codemirror_mode": {
    "name": "ipython",
    "version": 3
   },
   "file_extension": ".py",
   "mimetype": "text/x-python",
   "name": "python",
   "nbconvert_exporter": "python",
   "pygments_lexer": "ipython3",
   "version": "3.10.11"
  },
  "orig_nbformat": 4
 },
 "nbformat": 4,
 "nbformat_minor": 2
}
