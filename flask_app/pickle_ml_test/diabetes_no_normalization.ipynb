{
 "cells": [
  {
   "cell_type": "code",
   "execution_count": 5,
   "metadata": {},
   "outputs": [],
   "source": [
    "\n",
    "\n",
    "#importing dependencies\n",
    "import pandas as pd\n",
    "from pathlib import Path\n",
    "import seaborn as sns\n",
    "import tensorflow as tf\n",
    "import numpy as np\n",
    "import matplotlib.pyplot as plt"
   ]
  },
  {
   "cell_type": "code",
   "execution_count": 6,
   "metadata": {},
   "outputs": [
    {
     "data": {
      "text/html": [
       "<div>\n",
       "<style scoped>\n",
       "    .dataframe tbody tr th:only-of-type {\n",
       "        vertical-align: middle;\n",
       "    }\n",
       "\n",
       "    .dataframe tbody tr th {\n",
       "        vertical-align: top;\n",
       "    }\n",
       "\n",
       "    .dataframe thead th {\n",
       "        text-align: right;\n",
       "    }\n",
       "</style>\n",
       "<table border=\"1\" class=\"dataframe\">\n",
       "  <thead>\n",
       "    <tr style=\"text-align: right;\">\n",
       "      <th></th>\n",
       "      <th>Diabetes</th>\n",
       "      <th>Total Income per Individual</th>\n",
       "      <th>Lacking Health Insurance</th>\n",
       "      <th>Binge Drinking</th>\n",
       "      <th>High Blood Pressure</th>\n",
       "      <th>Routine Health Checkups</th>\n",
       "      <th>Currently Smoking</th>\n",
       "      <th>Depression</th>\n",
       "      <th>No Leisure-Time Physical Activity</th>\n",
       "      <th>Less than 7 Hours of Sleep</th>\n",
       "    </tr>\n",
       "  </thead>\n",
       "  <tbody>\n",
       "    <tr>\n",
       "      <th>0</th>\n",
       "      <td>13.0</td>\n",
       "      <td>4.121429</td>\n",
       "      <td>24.8</td>\n",
       "      <td>18.4</td>\n",
       "      <td>44.0</td>\n",
       "      <td>73.2</td>\n",
       "      <td>33.0</td>\n",
       "      <td>16.9</td>\n",
       "      <td>35.5</td>\n",
       "      <td>41.0</td>\n",
       "    </tr>\n",
       "    <tr>\n",
       "      <th>1</th>\n",
       "      <td>3.6</td>\n",
       "      <td>5.682143</td>\n",
       "      <td>14.4</td>\n",
       "      <td>20.6</td>\n",
       "      <td>16.8</td>\n",
       "      <td>71.8</td>\n",
       "      <td>14.4</td>\n",
       "      <td>26.3</td>\n",
       "      <td>21.3</td>\n",
       "      <td>37.4</td>\n",
       "    </tr>\n",
       "    <tr>\n",
       "      <th>2</th>\n",
       "      <td>18.3</td>\n",
       "      <td>8.220513</td>\n",
       "      <td>20.3</td>\n",
       "      <td>17.0</td>\n",
       "      <td>36.3</td>\n",
       "      <td>69.9</td>\n",
       "      <td>43.8</td>\n",
       "      <td>20.0</td>\n",
       "      <td>37.9</td>\n",
       "      <td>35.4</td>\n",
       "    </tr>\n",
       "    <tr>\n",
       "      <th>3</th>\n",
       "      <td>9.8</td>\n",
       "      <td>8.305128</td>\n",
       "      <td>20.5</td>\n",
       "      <td>20.5</td>\n",
       "      <td>35.3</td>\n",
       "      <td>69.2</td>\n",
       "      <td>29.2</td>\n",
       "      <td>20.7</td>\n",
       "      <td>30.6</td>\n",
       "      <td>43.2</td>\n",
       "    </tr>\n",
       "    <tr>\n",
       "      <th>4</th>\n",
       "      <td>9.5</td>\n",
       "      <td>8.596297</td>\n",
       "      <td>11.8</td>\n",
       "      <td>21.5</td>\n",
       "      <td>30.3</td>\n",
       "      <td>65.5</td>\n",
       "      <td>22.4</td>\n",
       "      <td>24.7</td>\n",
       "      <td>27.0</td>\n",
       "      <td>32.7</td>\n",
       "    </tr>\n",
       "    <tr>\n",
       "      <th>...</th>\n",
       "      <td>...</td>\n",
       "      <td>...</td>\n",
       "      <td>...</td>\n",
       "      <td>...</td>\n",
       "      <td>...</td>\n",
       "      <td>...</td>\n",
       "      <td>...</td>\n",
       "      <td>...</td>\n",
       "      <td>...</td>\n",
       "      <td>...</td>\n",
       "    </tr>\n",
       "    <tr>\n",
       "      <th>26679</th>\n",
       "      <td>7.1</td>\n",
       "      <td>751.694498</td>\n",
       "      <td>3.4</td>\n",
       "      <td>15.2</td>\n",
       "      <td>28.3</td>\n",
       "      <td>67.6</td>\n",
       "      <td>6.2</td>\n",
       "      <td>21.3</td>\n",
       "      <td>11.3</td>\n",
       "      <td>22.9</td>\n",
       "    </tr>\n",
       "    <tr>\n",
       "      <th>26680</th>\n",
       "      <td>6.8</td>\n",
       "      <td>855.545425</td>\n",
       "      <td>7.7</td>\n",
       "      <td>20.2</td>\n",
       "      <td>25.5</td>\n",
       "      <td>67.1</td>\n",
       "      <td>11.2</td>\n",
       "      <td>17.9</td>\n",
       "      <td>14.8</td>\n",
       "      <td>26.0</td>\n",
       "    </tr>\n",
       "    <tr>\n",
       "      <th>26681</th>\n",
       "      <td>7.5</td>\n",
       "      <td>1035.795390</td>\n",
       "      <td>3.3</td>\n",
       "      <td>14.6</td>\n",
       "      <td>25.4</td>\n",
       "      <td>61.2</td>\n",
       "      <td>5.4</td>\n",
       "      <td>15.1</td>\n",
       "      <td>11.5</td>\n",
       "      <td>24.0</td>\n",
       "    </tr>\n",
       "    <tr>\n",
       "      <th>26682</th>\n",
       "      <td>8.7</td>\n",
       "      <td>1197.884536</td>\n",
       "      <td>3.0</td>\n",
       "      <td>14.1</td>\n",
       "      <td>29.9</td>\n",
       "      <td>69.0</td>\n",
       "      <td>5.8</td>\n",
       "      <td>14.6</td>\n",
       "      <td>12.6</td>\n",
       "      <td>24.7</td>\n",
       "    </tr>\n",
       "    <tr>\n",
       "      <th>26683</th>\n",
       "      <td>13.6</td>\n",
       "      <td>1980.466887</td>\n",
       "      <td>7.5</td>\n",
       "      <td>12.5</td>\n",
       "      <td>31.3</td>\n",
       "      <td>62.9</td>\n",
       "      <td>11.6</td>\n",
       "      <td>13.6</td>\n",
       "      <td>23.2</td>\n",
       "      <td>30.2</td>\n",
       "    </tr>\n",
       "  </tbody>\n",
       "</table>\n",
       "<p>26684 rows × 10 columns</p>\n",
       "</div>"
      ],
      "text/plain": [
       "       Diabetes  Total Income per Individual  Lacking Health Insurance  \\\n",
       "0          13.0                     4.121429                      24.8   \n",
       "1           3.6                     5.682143                      14.4   \n",
       "2          18.3                     8.220513                      20.3   \n",
       "3           9.8                     8.305128                      20.5   \n",
       "4           9.5                     8.596297                      11.8   \n",
       "...         ...                          ...                       ...   \n",
       "26679       7.1                   751.694498                       3.4   \n",
       "26680       6.8                   855.545425                       7.7   \n",
       "26681       7.5                  1035.795390                       3.3   \n",
       "26682       8.7                  1197.884536                       3.0   \n",
       "26683      13.6                  1980.466887                       7.5   \n",
       "\n",
       "       Binge Drinking  High Blood Pressure  Routine Health Checkups  \\\n",
       "0                18.4                 44.0                     73.2   \n",
       "1                20.6                 16.8                     71.8   \n",
       "2                17.0                 36.3                     69.9   \n",
       "3                20.5                 35.3                     69.2   \n",
       "4                21.5                 30.3                     65.5   \n",
       "...               ...                  ...                      ...   \n",
       "26679            15.2                 28.3                     67.6   \n",
       "26680            20.2                 25.5                     67.1   \n",
       "26681            14.6                 25.4                     61.2   \n",
       "26682            14.1                 29.9                     69.0   \n",
       "26683            12.5                 31.3                     62.9   \n",
       "\n",
       "       Currently Smoking  Depression  No Leisure-Time Physical Activity  \\\n",
       "0                   33.0        16.9                               35.5   \n",
       "1                   14.4        26.3                               21.3   \n",
       "2                   43.8        20.0                               37.9   \n",
       "3                   29.2        20.7                               30.6   \n",
       "4                   22.4        24.7                               27.0   \n",
       "...                  ...         ...                                ...   \n",
       "26679                6.2        21.3                               11.3   \n",
       "26680               11.2        17.9                               14.8   \n",
       "26681                5.4        15.1                               11.5   \n",
       "26682                5.8        14.6                               12.6   \n",
       "26683               11.6        13.6                               23.2   \n",
       "\n",
       "       Less than 7 Hours of Sleep  \n",
       "0                            41.0  \n",
       "1                            37.4  \n",
       "2                            35.4  \n",
       "3                            43.2  \n",
       "4                            32.7  \n",
       "...                           ...  \n",
       "26679                        22.9  \n",
       "26680                        26.0  \n",
       "26681                        24.0  \n",
       "26682                        24.7  \n",
       "26683                        30.2  \n",
       "\n",
       "[26684 rows x 10 columns]"
      ]
     },
     "execution_count": 6,
     "metadata": {},
     "output_type": "execute_result"
    }
   ],
   "source": [
    "#importing medical_df\n",
    "medical_df = pd.read_csv(\"../../resources/medical_df.csv\")\n",
    "\n",
    "diabetes_df = medical_df[['Diabetes','Total Income per Individual',\n",
    "'Lacking Health Insurance','Binge Drinking','High Blood Pressure',\n",
    "'Routine Health Checkups','Currently Smoking', \n",
    "'Depression', 'No Leisure-Time Physical Activity',\n",
    "\"Less than 7 Hours of Sleep\" ]]\n",
    "\n",
    "diabetes_df"
   ]
  },
  {
   "cell_type": "code",
   "execution_count": 7,
   "metadata": {},
   "outputs": [],
   "source": [
    "train_dataset = diabetes_df.sample(frac=0.8, random_state=1)\n",
    "test_dataset = diabetes_df.drop(train_dataset.index)"
   ]
  },
  {
   "cell_type": "code",
   "execution_count": 8,
   "metadata": {},
   "outputs": [],
   "source": [
    "train_features = train_dataset.copy()\n",
    "test_features = test_dataset.copy()\n",
    "\n",
    "train_labels = train_features.pop('Diabetes')\n",
    "test_labels = test_features.pop('Diabetes')"
   ]
  },
  {
   "cell_type": "code",
   "execution_count": 9,
   "metadata": {},
   "outputs": [
    {
     "data": {
      "text/html": [
       "<div>\n",
       "<style scoped>\n",
       "    .dataframe tbody tr th:only-of-type {\n",
       "        vertical-align: middle;\n",
       "    }\n",
       "\n",
       "    .dataframe tbody tr th {\n",
       "        vertical-align: top;\n",
       "    }\n",
       "\n",
       "    .dataframe thead th {\n",
       "        text-align: right;\n",
       "    }\n",
       "</style>\n",
       "<table border=\"1\" class=\"dataframe\">\n",
       "  <thead>\n",
       "    <tr style=\"text-align: right;\">\n",
       "      <th></th>\n",
       "      <th>mean</th>\n",
       "      <th>std</th>\n",
       "    </tr>\n",
       "  </thead>\n",
       "  <tbody>\n",
       "    <tr>\n",
       "      <th>Diabetes</th>\n",
       "      <td>11.295924</td>\n",
       "      <td>2.952410</td>\n",
       "    </tr>\n",
       "    <tr>\n",
       "      <th>Total Income per Individual</th>\n",
       "      <td>38.448158</td>\n",
       "      <td>33.853274</td>\n",
       "    </tr>\n",
       "    <tr>\n",
       "      <th>Lacking Health Insurance</th>\n",
       "      <td>10.224669</td>\n",
       "      <td>5.600154</td>\n",
       "    </tr>\n",
       "    <tr>\n",
       "      <th>Binge Drinking</th>\n",
       "      <td>16.593554</td>\n",
       "      <td>2.720517</td>\n",
       "    </tr>\n",
       "    <tr>\n",
       "      <th>High Blood Pressure</th>\n",
       "      <td>34.377290</td>\n",
       "      <td>6.158767</td>\n",
       "    </tr>\n",
       "    <tr>\n",
       "      <th>Routine Health Checkups</th>\n",
       "      <td>73.896065</td>\n",
       "      <td>5.004122</td>\n",
       "    </tr>\n",
       "    <tr>\n",
       "      <th>Currently Smoking</th>\n",
       "      <td>17.893653</td>\n",
       "      <td>4.887682</td>\n",
       "    </tr>\n",
       "    <tr>\n",
       "      <th>Depression</th>\n",
       "      <td>22.546288</td>\n",
       "      <td>3.467845</td>\n",
       "    </tr>\n",
       "    <tr>\n",
       "      <th>No Leisure-Time Physical Activity</th>\n",
       "      <td>25.993985</td>\n",
       "      <td>6.348798</td>\n",
       "    </tr>\n",
       "    <tr>\n",
       "      <th>Less than 7 Hours of Sleep</th>\n",
       "      <td>33.467480</td>\n",
       "      <td>3.974882</td>\n",
       "    </tr>\n",
       "  </tbody>\n",
       "</table>\n",
       "</div>"
      ],
      "text/plain": [
       "                                        mean        std\n",
       "Diabetes                           11.295924   2.952410\n",
       "Total Income per Individual        38.448158  33.853274\n",
       "Lacking Health Insurance           10.224669   5.600154\n",
       "Binge Drinking                     16.593554   2.720517\n",
       "High Blood Pressure                34.377290   6.158767\n",
       "Routine Health Checkups            73.896065   5.004122\n",
       "Currently Smoking                  17.893653   4.887682\n",
       "Depression                         22.546288   3.467845\n",
       "No Leisure-Time Physical Activity  25.993985   6.348798\n",
       "Less than 7 Hours of Sleep         33.467480   3.974882"
      ]
     },
     "execution_count": 9,
     "metadata": {},
     "output_type": "execute_result"
    }
   ],
   "source": [
    "#Normalization of Data\n",
    "train_dataset.describe().transpose()[[\"mean\",\"std\"]]"
   ]
  },
  {
   "cell_type": "code",
   "execution_count": 10,
   "metadata": {},
   "outputs": [],
   "source": [
    "import tensorflow as tf\n",
    "\n",
    "from tensorflow import keras\n",
    "from tensorflow.keras import layers"
   ]
  },
  {
   "cell_type": "code",
   "execution_count": 11,
   "metadata": {},
   "outputs": [],
   "source": [
    "first = np.array(train_features[:1]),\n",
    "\n",
    "\n",
    "linear_model = tf.keras.Sequential([\n",
    "    layers.Dense(units=1)\n",
    "])"
   ]
  },
  {
   "cell_type": "code",
   "execution_count": 12,
   "metadata": {},
   "outputs": [
    {
     "name": "stdout",
     "output_type": "stream",
     "text": [
      "668/668 [==============================] - 1s 795us/step\n"
     ]
    },
    {
     "data": {
      "text/plain": [
       "array([[81.45507],\n",
       "       [75.36074],\n",
       "       [69.80057],\n",
       "       [84.67644],\n",
       "       [82.04534],\n",
       "       [74.75184],\n",
       "       [77.68622],\n",
       "       [85.2001 ],\n",
       "       [78.2399 ],\n",
       "       [72.74404]], dtype=float32)"
      ]
     },
     "execution_count": 12,
     "metadata": {},
     "output_type": "execute_result"
    }
   ],
   "source": [
    "# When Model.predict is call on batch of inputs, it produces units=1 outputs for each example\n",
    "linear_model.predict(train_features)[:10]"
   ]
  },
  {
   "cell_type": "code",
   "execution_count": 14,
   "metadata": {},
   "outputs": [],
   "source": [
    "#Configuring moel with Keras Model.compile and train with Model.fit for 100 epochs\n",
    "linear_model.compile(\n",
    "    optimizer=tf.keras.optimizers.Adam(learning_rate=0.1),\n",
    "    loss='mean_absolute_error')"
   ]
  },
  {
   "cell_type": "code",
   "execution_count": 15,
   "metadata": {},
   "outputs": [],
   "source": [
    "test_results = {}\n",
    "\n",
    "test_results['linear_model'] = linear_model.evaluate(\n",
    "    test_features, test_labels, verbose=0)\n"
   ]
  },
  {
   "cell_type": "code",
   "execution_count": 16,
   "metadata": {},
   "outputs": [],
   "source": [
    "def build_and_compile_model():\n",
    "  model = keras.Sequential([\n",
    "      layers.Dense(64, activation='relu',input_shape=(train_features.shape[1],)),\n",
    "      layers.Dense(64, activation='relu'),\n",
    "      layers.Dense(1)\n",
    "  ])\n",
    "\n",
    "  model.compile(loss='mean_absolute_error',\n",
    "                optimizer=tf.keras.optimizers.Adam(0.001))\n",
    "  return model"
   ]
  },
  {
   "cell_type": "code",
   "execution_count": 17,
   "metadata": {},
   "outputs": [
    {
     "name": "stdout",
     "output_type": "stream",
     "text": [
      "Model: \"sequential_1\"\n",
      "_________________________________________________________________\n",
      " Layer (type)                Output Shape              Param #   \n",
      "=================================================================\n",
      " dense_1 (Dense)             (None, 64)                640       \n",
      "                                                                 \n",
      " dense_2 (Dense)             (None, 64)                4160      \n",
      "                                                                 \n",
      " dense_3 (Dense)             (None, 1)                 65        \n",
      "                                                                 \n",
      "=================================================================\n",
      "Total params: 4,865\n",
      "Trainable params: 4,865\n",
      "Non-trainable params: 0\n",
      "_________________________________________________________________\n"
     ]
    }
   ],
   "source": [
    "dnn_model = build_and_compile_model()\n",
    "dnn_model.summary()"
   ]
  },
  {
   "cell_type": "code",
   "execution_count": 18,
   "metadata": {},
   "outputs": [
    {
     "name": "stdout",
     "output_type": "stream",
     "text": [
      "CPU times: user 1min 23s, sys: 9.45 s, total: 1min 32s\n",
      "Wall time: 54.2 s\n"
     ]
    }
   ],
   "source": [
    "%%time\n",
    "history = dnn_model.fit(\n",
    "    train_features,\n",
    "    train_labels,\n",
    "    validation_split=0.2,\n",
    "    verbose=0, epochs=100)"
   ]
  },
  {
   "cell_type": "code",
   "execution_count": 19,
   "metadata": {},
   "outputs": [],
   "source": [
    "test_results = {}\n",
    "\n",
    "test_results['dnn_model'] = dnn_model.evaluate(test_features, test_labels, verbose=0)"
   ]
  },
  {
   "cell_type": "code",
   "execution_count": 20,
   "metadata": {},
   "outputs": [
    {
     "data": {
      "text/html": [
       "<div>\n",
       "<style scoped>\n",
       "    .dataframe tbody tr th:only-of-type {\n",
       "        vertical-align: middle;\n",
       "    }\n",
       "\n",
       "    .dataframe tbody tr th {\n",
       "        vertical-align: top;\n",
       "    }\n",
       "\n",
       "    .dataframe thead th {\n",
       "        text-align: right;\n",
       "    }\n",
       "</style>\n",
       "<table border=\"1\" class=\"dataframe\">\n",
       "  <thead>\n",
       "    <tr style=\"text-align: right;\">\n",
       "      <th></th>\n",
       "      <th>Mean absolute error [diabetes]</th>\n",
       "    </tr>\n",
       "  </thead>\n",
       "  <tbody>\n",
       "    <tr>\n",
       "      <th>dnn_model</th>\n",
       "      <td>0.464183</td>\n",
       "    </tr>\n",
       "  </tbody>\n",
       "</table>\n",
       "</div>"
      ],
      "text/plain": [
       "           Mean absolute error [diabetes]\n",
       "dnn_model                        0.464183"
      ]
     },
     "execution_count": 20,
     "metadata": {},
     "output_type": "execute_result"
    }
   ],
   "source": [
    "pd.DataFrame(test_results, index=['Mean absolute error [diabetes]']).T"
   ]
  },
  {
   "cell_type": "code",
   "execution_count": 21,
   "metadata": {},
   "outputs": [
    {
     "name": "stdout",
     "output_type": "stream",
     "text": [
      "167/167 [==============================] - 0s 796us/step\n"
     ]
    },
    {
     "data": {
      "image/png": "[encoded data removed]",
      "text/plain": [
       "<Figure size 640x480 with 1 Axes>"
      ]
     },
     "metadata": {},
     "output_type": "display_data"
    }
   ],
   "source": [
    "test_predictions = dnn_model.predict(test_features).flatten()\n",
    "\n",
    "a = plt.axes(aspect='equal')\n",
    "plt.scatter(test_labels, test_predictions)\n",
    "plt.xlabel('True Values [Diabetes]')\n",
    "plt.ylabel('Predictions [Diabetes]')\n",
    "lims = [0, 50]\n",
    "plt.xlim(lims)\n",
    "plt.ylim(lims)\n",
    "_ = plt.plot(lims, lims)"
   ]
  },
  {
   "cell_type": "code",
   "execution_count": 22,
   "metadata": {},
   "outputs": [
    {
     "data": {
      "text/plain": [
       "Text(0, 0.5, 'Count')"
      ]
     },
     "execution_count": 22,
     "metadata": {},
     "output_type": "execute_result"
    },
    {
     "data": {
      "image/png": "[encoded data removed]",
      "text/plain": [
       "<Figure size 640x480 with 1 Axes>"
      ]
     },
     "metadata": {},
     "output_type": "display_data"
    }
   ],
   "source": [
    "#Error Distribution\n",
    "error = test_predictions - test_labels\n",
    "plt.hist(error, bins=25)\n",
    "plt.xlabel('Prediction Error ')\n",
    "plt.ylabel('Count')"
   ]
  },
  {
   "cell_type": "code",
   "execution_count": 23,
   "metadata": {},
   "outputs": [],
   "source": [
    "dnn_model.save('diabetes_dnn_model.h5')\n"
   ]
  },
  {
   "cell_type": "markdown",
   "metadata": {},
   "source": [
    "# Pickle the models"
   ]
  },
  {
   "cell_type": "code",
   "execution_count": 25,
   "metadata": {},
   "outputs": [],
   "source": [
    "import pickle\n",
    "\n",
    "# save the iris classification model as a pickle file\n",
    "d_model_pkl_file = \"diabetes_linear_regression_dnn_model.pkl\"  \n",
    "\n",
    "with open(d_model_pkl_file, 'wb') as file:  \n",
    "    pickle.dump(dnn_model, file)"
   ]
  },
  {
   "cell_type": "code",
   "execution_count": null,
   "metadata": {},
   "outputs": [],
   "source": []
  }
 ],
 "metadata": {
  "kernelspec": {
   "display_name": "tf",
   "language": "python",
   "name": "python3"
  },
  "language_info": {
   "codemirror_mode": {
    "name": "ipython",
    "version": 3
   },
   "file_extension": ".py",
   "mimetype": "text/x-python",
   "name": "python",
   "nbconvert_exporter": "python",
   "pygments_lexer": "ipython3",
   "version": "3.11.5"
  },
  "orig_nbformat": 4
 },
 "nbformat": 4,
 "nbformat_minor": 2
}
